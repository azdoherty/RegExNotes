{
 "cells": [
  {
   "cell_type": "code",
   "execution_count": 3,
   "metadata": {},
   "outputs": [
    {
     "data": {
      "text/plain": [
       "'2.2.1'"
      ]
     },
     "execution_count": 3,
     "metadata": {},
     "output_type": "execute_result"
    }
   ],
   "source": [
    "import re\n",
    "re.__version__"
   ]
  },
  {
   "cell_type": "code",
   "execution_count": 68,
   "metadata": {},
   "outputs": [
    {
     "name": "stdout",
     "output_type": "stream",
     "text": [
      " search results: <re.Match object; span=(5, 8), match='112'>\n",
      " match results: None\n",
      " match results: <re.Match object; span=(0, 10), match='a    112  '>\n"
     ]
    }
   ],
   "source": [
    "# find if there is a number anywhere in the string\n",
    "pattern = re.compile(\"\\d+\")\n",
    "testStr = \"a    112  \"\n",
    "res = re.search(pattern, testStr)\n",
    "print(f\" search results: {res}\")\n",
    "\n",
    "mat = re.match(pattern, testStr)\n",
    "print(f\" match results: {mat}\")\n",
    "\n",
    "# make the match happen:\n",
    "pattern = re.compile(\".+\\d.+\")\n",
    "mat = re.match(pattern, testStr)\n",
    "print(f\" match results: {mat}\")\n"
   ]
  },
  {
   "cell_type": "code",
   "execution_count": 74,
   "metadata": {},
   "outputs": [
    {
     "name": "stdout",
     "output_type": "stream",
     "text": [
      " search results: <re.Match object; span=(24, 29), match='AAPL '>\n",
      " find results: ['MSFT ', 'AMZN ', 'NFLX ']\n"
     ]
    }
   ],
   "source": [
    "# Find if there is a substring containing only capital letters\n",
    "pattern = re.compile(r\"[A-Z]+\\s\")\n",
    "testStr = \"The earnings report for AAPL was strong this quarter\"\n",
    "ser = re.search(pattern, testStr)\n",
    "print(f\" search results: {ser}\")\n",
    "\n",
    "# and if multiple are mentioned\n",
    "testStr = \"MSFT will perform well while Both AMZN and NFLX are going to perform poorly\"\n",
    "fall = re.findall(pattern, testStr)\n",
    "print(f\" find results: {fall}\")\n"
   ]
  },
  {
   "cell_type": "code",
   "execution_count": 87,
   "metadata": {},
   "outputs": [
    {
     "name": "stdout",
     "output_type": "stream",
     "text": [
      " find results: ['Apples', 'apple ', 'apples']\n"
     ]
    }
   ],
   "source": [
    "# Find plural and singular instances of word, ignore case\n",
    "pattern = re.compile(r\"(?i)\\bapple.\\b\")\n",
    "testStr = \"Apples...One apple is good, but many apples are better\"\n",
    "fall = re.findall(pattern, testStr)\n",
    "print(f\" find results: {fall}\")\n"
   ]
  },
  {
   "cell_type": "code",
   "execution_count": null,
   "metadata": {},
   "outputs": [],
   "source": []
  }
 ],
 "metadata": {
  "kernelspec": {
   "display_name": "Python 3",
   "language": "python",
   "name": "python3"
  },
  "language_info": {
   "codemirror_mode": {
    "name": "ipython",
    "version": 3
   },
   "file_extension": ".py",
   "mimetype": "text/x-python",
   "name": "python",
   "nbconvert_exporter": "python",
   "pygments_lexer": "ipython3",
   "version": "3.7.0"
  }
 },
 "nbformat": 4,
 "nbformat_minor": 1
}
